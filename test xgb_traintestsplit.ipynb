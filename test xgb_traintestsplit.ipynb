{
 "cells": [
  {
   "cell_type": "code",
   "execution_count": 1,
   "metadata": {},
   "outputs": [],
   "source": [
    "import os\n",
    "import cv2\n",
    "import numpy as np\n",
    "from tqdm import tqdm\n",
    "from sklearn.ensemble import RandomForestClassifier\n",
    "from sklearn.metrics import accuracy_score, f1_score, precision_score, recall_score, confusion_matrix\n",
    "import seaborn as sns\n",
    "import matplotlib.pyplot as plt\n",
    "from skimage import feature\n",
    "import pickle\n",
    "from xgboost import XGBClassifier\n",
    "from sklearn.model_selection import train_test_split"
   ]
  },
  {
   "cell_type": "code",
   "execution_count": 2,
   "metadata": {},
   "outputs": [],
   "source": [
    "def extract_label(filename):\n",
    "    if \"frban\" in filename:\n",
    "        return \"fresh banana\"\n",
    "    elif \"frgrapp\" in filename:\n",
    "        return \"fresh green apple\"\n",
    "    elif \"rotapp\" in filename:\n",
    "        return \"rotten apple\"\n",
    "    elif \"rotban\" in filename:\n",
    "        return \"rotten banana\"\n",
    "    elif \"frredapp\" in filename:\n",
    "        return \"fresh red apple\"\n",
    "    elif \"frbg\" in filename:\n",
    "        return \"fresh bitter gourd\"\n",
    "    elif \"frcapsicum\" in filename:\n",
    "        return \"fresh capsicum\"\n",
    "    elif \"rotorange\" in filename:\n",
    "        return \"rotten orange\"\n",
    "    elif \"rotcapsicum\" in filename:\n",
    "        return \"rotten capsicum\"\n",
    "    elif \"rotbg\" in filename:\n",
    "        return \"rotten bitter gourd\"\n",
    "    elif \"frtomato\" in filename:\n",
    "        return \"fresh tomato\"\n",
    "    elif \"frorange\" in filename:\n",
    "        return \"fresh orange\"\n",
    "    else:\n",
    "        print(f\"Unknown label for image: {filename}\")\n",
    "        return None"
   ]
  },
  {
   "cell_type": "code",
   "execution_count": 3,
   "metadata": {},
   "outputs": [],
   "source": [
    "def extract_color_histogram(image, bins=(8, 8, 8)):\n",
    "    hist = cv2.calcHist([image], [0, 1, 2], None, bins, [0, 256, 0, 256, 0, 256])\n",
    "    hist = cv2.normalize(hist, hist).flatten()\n",
    "    return hist\n",
    "\n",
    "def extract_edges(image):\n",
    "    gray = cv2.cvtColor(image, cv2.COLOR_BGR2GRAY)\n",
    "    edges = cv2.Canny(gray, 100, 200)\n",
    "    return edges.flatten()\n",
    "\n",
    "def compute_texture_gradients(image):\n",
    "    gray_image = cv2.cvtColor(image, cv2.COLOR_RGB2GRAY)\n",
    "    \n",
    "    # Compute texture gradients using Sobel operator\n",
    "    sobel_x = cv2.Sobel(gray_image, cv2.CV_64F, 1, 0, ksize=3)\n",
    "    sobel_y = cv2.Sobel(gray_image, cv2.CV_64F, 0, 1, ksize=3)\n",
    "    \n",
    "    # Compute magnitude of gradients\n",
    "    gradient_magnitude = np.sqrt(sobel_x**2 + sobel_y**2)\n",
    "    \n",
    "    # Compute mean and standard deviation of gradient magnitude\n",
    "    mean_gradient = np.mean(gradient_magnitude)\n",
    "    std_gradient = np.std(gradient_magnitude)\n",
    "    \n",
    "    # Compute texture gradients feature vector\n",
    "    texture_gradients = np.array([mean_gradient, std_gradient])\n",
    "    \n",
    "    return texture_gradients\n",
    "\n",
    "def extract_features(image):\n",
    "    color_hist = extract_color_histogram(image)\n",
    "    ta = compute_texture_gradients(image)\n",
    "    edges = extract_edges(image)\n",
    "    feature_vector = np.concatenate([color_hist, ta, edges])\n",
    "    return feature_vector"
   ]
  },
  {
   "cell_type": "code",
   "execution_count": 4,
   "metadata": {},
   "outputs": [],
   "source": [
    "def load_X_train_and_y_train_from_folder(folder_path):\n",
    "    X_train = []\n",
    "    y_train = []\n",
    "    filenames = os.listdir(folder_path)\n",
    "    for filename in tqdm(filenames, desc=\"Loading data\"):\n",
    "        if filename.endswith(\".jpg\") or filename.endswith(\".png\"):\n",
    "            image_path = os.path.join(folder_path, filename)\n",
    "            image = cv2.imread(image_path)\n",
    "            if image is not None:\n",
    "                feature_vector = extract_features(image)\n",
    "                y_train.append(extract_label(filename))\n",
    "                X_train.append(feature_vector)\n",
    "            else:\n",
    "                print(f\"Failed to read image: {image_path}\")\n",
    "    return X_train, y_train"
   ]
  },
  {
   "cell_type": "code",
   "execution_count": 5,
   "metadata": {},
   "outputs": [],
   "source": [
    "def evaluate_model(true_y_train, numeric_predicted_y_train):    \n",
    "    accuracy = accuracy_score(true_y_train, numeric_predicted_y_train)\n",
    "    f1 = f1_score(true_y_train, numeric_predicted_y_train, average='micro')\n",
    "    precision = precision_score(true_y_train, numeric_predicted_y_train, average='None')\n",
    "    recall = recall_score(true_y_train, numeric_predicted_y_train, average='weighted')\n",
    "    conf_matrix = confusion_matrix(true_y_train, numeric_predicted_y_train)\n",
    "    \n",
    "    return accuracy, f1, precision, recall, conf_matrix"
   ]
  },
  {
   "cell_type": "code",
   "execution_count": 6,
   "metadata": {},
   "outputs": [],
   "source": [
    "def resize_X_train_in_folder(input_folder, output_folder, target_size=(224, 224)):\n",
    "    filenames = os.listdir(input_folder)\n",
    "    for filename in tqdm(filenames, desc=\"Resizing X_train\"):\n",
    "        if filename.endswith(\".jpg\") or filename.endswith(\".png\"):  \n",
    "            input_image_path = os.path.join(input_folder, filename)\n",
    "            output_image_path = os.path.join(output_folder, filename)\n",
    "            image = cv2.imread(input_image_path)\n",
    "            if image is not None:\n",
    "                resized_image = cv2.resize(image, target_size)  \n",
    "                cv2.imwrite(output_image_path, resized_image)\n",
    "            else:\n",
    "                pass"
   ]
  },
  {
   "cell_type": "code",
   "execution_count": 7,
   "metadata": {},
   "outputs": [
    {
     "name": "stderr",
     "output_type": "stream",
     "text": [
      "Loading data:   0%|          | 0/821 [00:00<?, ?it/s]"
     ]
    },
    {
     "name": "stderr",
     "output_type": "stream",
     "text": [
      "Loading data: 100%|██████████| 821/821 [00:02<00:00, 286.95it/s]\n"
     ]
    }
   ],
   "source": [
    "folder_path = \"test_resized\"\n",
    "X_test, y_test = load_X_train_and_y_train_from_folder(folder_path)"
   ]
  },
  {
   "cell_type": "code",
   "execution_count": 8,
   "metadata": {},
   "outputs": [],
   "source": [
    "with open('new3.pkl', 'rb') as file:\n",
    "    xgb = pickle.load(file)"
   ]
  },
  {
   "cell_type": "code",
   "execution_count": 9,
   "metadata": {},
   "outputs": [],
   "source": [
    "label_to_number = {\"fresh banana\": 0, \"fresh green apple\": 1, \"rotten apple\": 2, \"rotten banana\": 3, \"fresh red apple\": 4, \"fresh bitter gourd\": 5, \"fresh capsicum\": 6, \"fresh orange\": 7, \"fresh tomato\": 8, \"rotten bitter gourd\": 9, \"rotten capsicum\": 10, \"rotten orange\": 11}\n",
    "numeric_y_test = [label_to_number[label] for label in y_test]"
   ]
  },
  {
   "cell_type": "code",
   "execution_count": 10,
   "metadata": {},
   "outputs": [],
   "source": [
    "y_pred = xgb.predict(X_test)\n",
    "\n",
    "predicted_y_test = [list(label_to_number.keys())[label] for label in y_pred]"
   ]
  },
  {
   "cell_type": "code",
   "execution_count": 11,
   "metadata": {},
   "outputs": [
    {
     "name": "stdout",
     "output_type": "stream",
     "text": [
      "Accuracy: 0.8599269183922046\n"
     ]
    }
   ],
   "source": [
    "correct_predictions = sum(1 for true_label, predicted_label in zip(y_test, predicted_y_test) if true_label == predicted_label)\n",
    "total_test_samples = len(y_test)\n",
    "accuracy = correct_predictions / total_test_samples\n",
    "print(\"Accuracy:\", accuracy)\n"
   ]
  },
  {
   "cell_type": "code",
   "execution_count": 12,
   "metadata": {},
   "outputs": [],
   "source": [
    "numeric_y_test_arr = np.array(numeric_y_test)"
   ]
  },
  {
   "cell_type": "code",
   "execution_count": 13,
   "metadata": {},
   "outputs": [
    {
     "data": {
      "text/plain": [
       "0.8599269183922046"
      ]
     },
     "execution_count": 13,
     "metadata": {},
     "output_type": "execute_result"
    }
   ],
   "source": [
    "accuracy_score(numeric_y_test_arr, y_pred)"
   ]
  },
  {
   "cell_type": "code",
   "execution_count": 14,
   "metadata": {},
   "outputs": [
    {
     "data": {
      "text/plain": [
       "array([0.96618357, 0.99507389, 0.72164948, 0.96      , 0.81443299,\n",
       "       0.25714286, 0.4516129 , 0.98507463, 0.82352941, 0.        ,\n",
       "       0.97142857, 0.96153846])"
      ]
     },
     "execution_count": 14,
     "metadata": {},
     "output_type": "execute_result"
    }
   ],
   "source": [
    "f1_score(numeric_y_test_arr, y_pred, average=None)"
   ]
  },
  {
   "cell_type": "code",
   "execution_count": 15,
   "metadata": {},
   "outputs": [
    {
     "data": {
      "text/plain": [
       "0.8599269183922046"
      ]
     },
     "execution_count": 15,
     "metadata": {},
     "output_type": "execute_result"
    }
   ],
   "source": [
    "f1_score(numeric_y_test_arr, y_pred, average='micro')"
   ]
  },
  {
   "cell_type": "code",
   "execution_count": 16,
   "metadata": {},
   "outputs": [
    {
     "data": {
      "text/plain": [
       "array([0.93457944, 0.99019608, 0.76086957, 0.96969697, 0.85869565,\n",
       "       0.14754098, 1.        , 0.99      , 0.7       , 0.        ,\n",
       "       1.        , 0.92592593])"
      ]
     },
     "execution_count": 16,
     "metadata": {},
     "output_type": "execute_result"
    }
   ],
   "source": [
    "precision_score(numeric_y_test_arr, y_pred, average=None)"
   ]
  },
  {
   "cell_type": "code",
   "execution_count": 17,
   "metadata": {},
   "outputs": [
    {
     "data": {
      "text/plain": [
       "array([1.        , 1.        , 0.68627451, 0.95049505, 0.7745098 ,\n",
       "       1.        , 0.29166667, 0.98019802, 1.        , 0.        ,\n",
       "       0.94444444, 1.        ])"
      ]
     },
     "execution_count": 17,
     "metadata": {},
     "output_type": "execute_result"
    }
   ],
   "source": [
    "recall_score(numeric_y_test_arr, y_pred, average=None)"
   ]
  },
  {
   "cell_type": "code",
   "execution_count": 18,
   "metadata": {},
   "outputs": [
    {
     "data": {
      "text/plain": [
       "array([[100,   0,   0,   0,   0,   0,   0,   0,   0,   0,   0,   0],\n",
       "       [  0, 101,   0,   0,   0,   0,   0,   0,   0,   0,   0,   0],\n",
       "       [  7,   1,  70,   3,  13,   0,   0,   0,   2,   0,   0,   6],\n",
       "       [  0,   0,   2,  96,   0,   0,   0,   0,   0,   2,   0,   1],\n",
       "       [  0,   0,  18,   0,  79,   0,   0,   1,   4,   0,   0,   0],\n",
       "       [  0,   0,   0,   0,   0,   9,   0,   0,   0,   0,   0,   0],\n",
       "       [  0,   0,   0,   0,   0,  51,  21,   0,   0,   0,   0,   0],\n",
       "       [  0,   0,   1,   0,   0,   0,   0,  99,   0,   0,   0,   1],\n",
       "       [  0,   0,   0,   0,   0,   0,   0,   0,  14,   0,   0,   0],\n",
       "       [  0,   0,   1,   0,   0,   0,   0,   0,   0,   0,   0,   0],\n",
       "       [  0,   0,   0,   0,   0,   1,   0,   0,   0,   0,  17,   0],\n",
       "       [  0,   0,   0,   0,   0,   0,   0,   0,   0,   0,   0, 100]],\n",
       "      dtype=int64)"
      ]
     },
     "execution_count": 18,
     "metadata": {},
     "output_type": "execute_result"
    }
   ],
   "source": [
    "confusion_matrix(numeric_y_test_arr, y_pred)"
   ]
  }
 ],
 "metadata": {
  "kernelspec": {
   "display_name": "Python 3",
   "language": "python",
   "name": "python3"
  },
  "language_info": {
   "codemirror_mode": {
    "name": "ipython",
    "version": 3
   },
   "file_extension": ".py",
   "mimetype": "text/x-python",
   "name": "python",
   "nbconvert_exporter": "python",
   "pygments_lexer": "ipython3",
   "version": "3.9.6"
  }
 },
 "nbformat": 4,
 "nbformat_minor": 2
}
