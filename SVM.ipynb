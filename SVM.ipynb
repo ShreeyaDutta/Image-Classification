{
 "cells": [
  {
   "cell_type": "code",
   "execution_count": 1,
   "metadata": {},
   "outputs": [],
   "source": [
    "import os\n",
    "import cv2\n",
    "import numpy as np\n",
    "from tqdm import tqdm\n",
    "from sklearn import svm\n",
    "from skimage import feature\n",
    "\n",
    "def load_images_and_labels_from_folder(folder_path):\n",
    "    images = []\n",
    "    labels = []\n",
    "    filenames = os.listdir(folder_path)\n",
    "    for filename in tqdm(filenames, desc=\"Loading images\"):\n",
    "        if filename.endswith(\".jpg\") or filename.endswith(\".png\"):\n",
    "            image_path = os.path.join(folder_path, filename)\n",
    "            image = cv2.imread(image_path)\n",
    "            if image is not None:\n",
    "                feature_vector = extract_features(image)\n",
    "                labels.append(extract_label(filename))\n",
    "                images.append(feature_vector)\n",
    "            else:\n",
    "                print(f\"Failed to read image: {image_path}\")\n",
    "    return images, labels\n",
    "\n",
    "def extract_label(filename):\n",
    "    if \"frban\" in filename:\n",
    "        return \"fresh banana\"\n",
    "    elif \"frgrapp\" in filename:\n",
    "        return \"fresh green apple\"\n",
    "    elif \"rotapp\" in filename:\n",
    "        return \"rotten apple\"\n",
    "    elif \"rotban\" in filename:\n",
    "        return \"rotten banana\"\n",
    "    elif \"frredapp\" in filename:\n",
    "        return \"fresh red apple\"\n",
    "    else:\n",
    "        print(f\"Unknown label for image: {filename}\")\n",
    "        return None\n",
    "\n",
    "def extract_color_histogram(image, bins=(8, 8, 8)):\n",
    "    hist = cv2.calcHist([image], [0, 1, 2], None, bins, [0, 256, 0, 256, 0, 256])\n",
    "    hist = cv2.normalize(hist, hist).flatten()\n",
    "    return hist\n",
    "\n",
    "def extract_local_binary_patterns(image, num_points=24, radius=8):\n",
    "    gray = cv2.cvtColor(image, cv2.COLOR_BGR2GRAY)\n",
    "    lbp = feature.local_binary_pattern(gray, num_points, radius, method=\"uniform\")\n",
    "    (hist, _) = np.histogram(lbp.ravel(), bins=np.arange(0, num_points + 3), range=(0, num_points + 2))\n",
    "    hist = hist.astype(\"float\")\n",
    "    hist /= (hist.sum() + 1e-7)\n",
    "    return hist\n",
    "\n",
    "def extract_edges(image):\n",
    "    gray = cv2.cvtColor(image, cv2.COLOR_BGR2GRAY)\n",
    "    edges = cv2.Canny(gray, 100, 200)\n",
    "    return edges.flatten()\n",
    "\n",
    "def extract_features(image):\n",
    "    color_hist = extract_color_histogram(image)\n",
    "    lbp_hist = extract_local_binary_patterns(image)\n",
    "    edges = extract_edges(image)\n",
    "    feature_vector = np.concatenate([color_hist, lbp_hist, edges])\n",
    "    return feature_vector"
   ]
  },
  {
   "cell_type": "code",
   "execution_count": 2,
   "metadata": {},
   "outputs": [
    {
     "name": "stderr",
     "output_type": "stream",
     "text": [
      "Loading images:   0%|          | 0/2000 [00:00<?, ?it/s]"
     ]
    },
    {
     "name": "stderr",
     "output_type": "stream",
     "text": [
      "Loading images: 100%|██████████| 2000/2000 [01:08<00:00, 29.19it/s]\n"
     ]
    }
   ],
   "source": [
    "folder_path = \"resized ds 128\"\n",
    "images, labels = load_images_and_labels_from_folder(folder_path)"
   ]
  },
  {
   "cell_type": "code",
   "execution_count": null,
   "metadata": {},
   "outputs": [],
   "source": [
    "images"
   ]
  },
  {
   "cell_type": "code",
   "execution_count": null,
   "metadata": {},
   "outputs": [],
   "source": [
    "labels"
   ]
  },
  {
   "cell_type": "code",
   "execution_count": 8,
   "metadata": {},
   "outputs": [
    {
     "name": "stdout",
     "output_type": "stream",
     "text": [
      "fresh banana: 50 samples\n",
      "fresh green apple: 49 samples\n",
      "fresh red apple: 50 samples\n",
      "rotten apple: 50 samples\n",
      "rotten banana: 50 samples\n"
     ]
    }
   ],
   "source": [
    "# Initialize a dictionary to store the counts\n",
    "label_counts = {}\n",
    "\n",
    "# Count the occurrences of each label\n",
    "for label in labels:\n",
    "    if label in label_counts:\n",
    "        label_counts[label] += 1\n",
    "    else:\n",
    "        label_counts[label] = 1\n",
    "\n",
    "# Print the counts for each label\n",
    "for label, count in label_counts.items():\n",
    "    print(f\"{label}: {count} samples\")\n"
   ]
  },
  {
   "cell_type": "code",
   "execution_count": null,
   "metadata": {},
   "outputs": [],
   "source": [
    "labels"
   ]
  },
  {
   "cell_type": "code",
   "execution_count": 3,
   "metadata": {},
   "outputs": [
    {
     "name": "stderr",
     "output_type": "stream",
     "text": [
      "Training SVM:   0%|          | 0/2000 [00:00<?, ?it/s]"
     ]
    },
    {
     "name": "stderr",
     "output_type": "stream",
     "text": [
      "Training SVM: 100%|██████████| 2000/2000 [04:31<00:00,  7.36it/s]\n"
     ]
    }
   ],
   "source": [
    "from sklearn.svm import SVC\n",
    "from tqdm import tqdm\n",
    "\n",
    "# Convert labels to numerical values\n",
    "label_to_number = {\"fresh banana\": 0, \"fresh green apple\": 1, \"rotten apple\": 2, \"rotten banana\": 3, \"fresh red apple\": 4}\n",
    "numeric_labels = [label_to_number[label] for label in labels]\n",
    "\n",
    "# Train SVM model\n",
    "svm_model = SVC(kernel='linear')  # You can adjust the kernel as needed\n",
    "\n",
    "# Training SVM model with tqdm\n",
    "with tqdm(total=len(images), desc=\"Training SVM\") as pbar:\n",
    "    svm_model.fit(images, numeric_labels)\n",
    "    pbar.update(len(images))\n"
   ]
  },
  {
   "cell_type": "code",
   "execution_count": 4,
   "metadata": {},
   "outputs": [
    {
     "name": "stderr",
     "output_type": "stream",
     "text": [
      "Loading images: 100%|██████████| 15/15 [00:00<00:00, 26.94it/s]\n"
     ]
    },
    {
     "name": "stdout",
     "output_type": "stream",
     "text": [
      "Accuracy on test data: 0.13\n"
     ]
    }
   ],
   "source": [
    "# Test data (replace with your actual test data)\n",
    "test_folder_path = \"eval 128\"\n",
    "test_images, test_labels = load_images_and_labels_from_folder(test_folder_path)\n",
    "\n",
    "# Convert test labels to numerical values\n",
    "numeric_test_labels = [label_to_number[label] for label in test_labels]\n",
    "\n",
    "# Predict labels for test images using the trained SVM model\n",
    "predicted_labels = svm_model.predict(test_images)\n",
    "\n",
    "# Convert predicted labels back to original labels\n",
    "predicted_labels = [list(label_to_number.keys())[label] for label in predicted_labels]\n",
    "\n",
    "# Calculate accuracy\n",
    "correct_predictions = sum(1 for true_label, predicted_label in zip(test_labels, predicted_labels) if true_label == predicted_label)\n",
    "total_test_samples = len(test_labels)\n",
    "accuracy = correct_predictions / total_test_samples\n",
    "\n",
    "print(f\"Accuracy on test data: {accuracy:.2f}\")"
   ]
  }
 ],
 "metadata": {
  "kernelspec": {
   "display_name": "Python 3",
   "language": "python",
   "name": "python3"
  },
  "language_info": {
   "codemirror_mode": {
    "name": "ipython",
    "version": 3
   },
   "file_extension": ".py",
   "mimetype": "text/x-python",
   "name": "python",
   "nbconvert_exporter": "python",
   "pygments_lexer": "ipython3",
   "version": "3.9.6"
  }
 },
 "nbformat": 4,
 "nbformat_minor": 2
}
