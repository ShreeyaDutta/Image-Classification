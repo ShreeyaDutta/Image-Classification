{
 "cells": [
  {
   "cell_type": "code",
   "execution_count": 1,
   "metadata": {},
   "outputs": [],
   "source": [
    "import os\n",
    "import cv2\n",
    "import numpy as np\n",
    "from tqdm import tqdm\n",
    "from sklearn.ensemble import RandomForestClassifier\n",
    "from sklearn.metrics import accuracy_score, f1_score, precision_score, recall_score, confusion_matrix\n",
    "import seaborn as sns\n",
    "import matplotlib.pyplot as plt\n",
    "from skimage import feature\n",
    "import pickle\n",
    "from xgboost import XGBClassifier\n",
    "from sklearn.model_selection import train_test_split"
   ]
  },
  {
   "cell_type": "code",
   "execution_count": 2,
   "metadata": {},
   "outputs": [],
   "source": [
    "def extract_label(filename):\n",
    "    if \"frban\" in filename:\n",
    "        return \"fresh banana\"\n",
    "    elif \"frgrapp\" in filename:\n",
    "        return \"fresh green apple\"\n",
    "    elif \"rotapp\" in filename:\n",
    "        return \"rotten apple\"\n",
    "    elif \"rotban\" in filename:\n",
    "        return \"rotten banana\"\n",
    "    elif \"frredapp\" in filename:\n",
    "        return \"fresh red apple\"\n",
    "    elif \"frbg\" in filename:\n",
    "        return \"fresh bitter gourd\"\n",
    "    elif \"frcapsicum\" in filename:\n",
    "        return \"fresh capsicum\"\n",
    "    elif \"rotorange\" in filename:\n",
    "        return \"rotten orange\"\n",
    "    elif \"rotcapsicum\" in filename:\n",
    "        return \"rotten capsicum\"\n",
    "    elif \"rotbg\" in filename:\n",
    "        return \"rotten bitter gourd\"\n",
    "    elif \"frtomato\" in filename:\n",
    "        return \"fresh tomato\"\n",
    "    elif \"frorange\" in filename:\n",
    "        return \"fresh orange\"\n",
    "    else:\n",
    "        print(f\"Unknown label for image: {filename}\")\n",
    "        return None"
   ]
  },
  {
   "cell_type": "code",
   "execution_count": 3,
   "metadata": {},
   "outputs": [],
   "source": [
    "def extract_color_histogram(image, bins=(8, 8, 8)):\n",
    "    hist = cv2.calcHist([image], [0, 1, 2], None, bins, [0, 256, 0, 256, 0, 256])\n",
    "    hist = cv2.normalize(hist, hist).flatten()\n",
    "    return hist\n",
    "\n",
    "def extract_local_binary_patterns(image, num_points=24, radius=8):\n",
    "    gray = cv2.cvtColor(image, cv2.COLOR_BGR2GRAY)\n",
    "    lbp = feature.local_binary_pattern(gray, num_points, radius, method=\"uniform\")\n",
    "    (hist, _) = np.histogram(lbp.ravel(), bins=np.arange(0, num_points + 3), range=(0, num_points + 2))\n",
    "    hist = hist.astype(\"float\")\n",
    "    hist /= (hist.sum() + 1e-7)\n",
    "    return hist\n",
    "\n",
    "def extract_edges(image):\n",
    "    gray = cv2.cvtColor(image, cv2.COLOR_BGR2GRAY)\n",
    "    edges = cv2.Canny(gray, 100, 200)\n",
    "    return edges.flatten()\n",
    "\n",
    "def extract_features(image):\n",
    "    color_hist = extract_color_histogram(image)\n",
    "    lbp_hist = extract_local_binary_patterns(image)\n",
    "    edges = extract_edges(image)\n",
    "    feature_vector = np.concatenate([color_hist, lbp_hist, edges])\n",
    "    return feature_vector"
   ]
  },
  {
   "cell_type": "code",
   "execution_count": 4,
   "metadata": {},
   "outputs": [],
   "source": [
    "def load_X_train_and_y_train_from_folder(folder_path):\n",
    "    X_train = []\n",
    "    y_train = []\n",
    "    filenames = os.listdir(folder_path)\n",
    "    for filename in tqdm(filenames, desc=\"Loading data\"):\n",
    "        if filename.endswith(\".jpg\") or filename.endswith(\".png\"):\n",
    "            image_path = os.path.join(folder_path, filename)\n",
    "            image = cv2.imread(image_path)\n",
    "            if image is not None:\n",
    "                feature_vector = extract_features(image)\n",
    "                y_train.append(extract_label(filename))\n",
    "                X_train.append(feature_vector)\n",
    "            else:\n",
    "                print(f\"Failed to read image: {image_path}\")\n",
    "    return X_train, y_train"
   ]
  },
  {
   "cell_type": "code",
   "execution_count": 6,
   "metadata": {},
   "outputs": [],
   "source": [
    "def resize_X_train_in_folder(input_folder, output_folder, target_size=(224, 224)):\n",
    "    filenames = os.listdir(input_folder)\n",
    "    for filename in tqdm(filenames, desc=\"Resizing X_train\"):\n",
    "        if filename.endswith(\".jpg\") or filename.endswith(\".png\"):  \n",
    "            input_image_path = os.path.join(input_folder, filename)\n",
    "            output_image_path = os.path.join(output_folder, filename)\n",
    "            image = cv2.imread(input_image_path)\n",
    "            if image is not None:\n",
    "                resized_image = cv2.resize(image, target_size)  \n",
    "                cv2.imwrite(output_image_path, resized_image)\n",
    "            else:\n",
    "                pass"
   ]
  },
  {
   "cell_type": "code",
   "execution_count": 7,
   "metadata": {},
   "outputs": [
    {
     "name": "stderr",
     "output_type": "stream",
     "text": [
      "Loading data: 100%|██████████| 5912/5912 [04:03<00:00, 24.26it/s]\n"
     ]
    }
   ],
   "source": [
    "folder_path = \"resized\"\n",
    "X, y = load_X_train_and_y_train_from_folder(folder_path)"
   ]
  },
  {
   "cell_type": "code",
   "execution_count": 8,
   "metadata": {},
   "outputs": [],
   "source": [
    "X_train, X_test, y_train, y_test = train_test_split(X, y, test_size=0.2, random_state=42)"
   ]
  },
  {
   "cell_type": "code",
   "execution_count": 9,
   "metadata": {},
   "outputs": [],
   "source": [
    "label_to_number = {\"fresh banana\": 0, \"fresh green apple\": 1, \"rotten apple\": 2, \"rotten banana\": 3, \"fresh red apple\": 4, \"fresh bitter gourd\": 5, \"fresh capsicum\": 6, \"fresh orange\": 7, \"fresh tomato\": 8, \"rotten bitter gourd\": 9, \"rotten capsicum\": 10, \"rotten orange\": 11}\n",
    "numeric_y_train = [label_to_number[label] for label in y_train]"
   ]
  },
  {
   "cell_type": "code",
   "execution_count": 10,
   "metadata": {},
   "outputs": [
    {
     "name": "stderr",
     "output_type": "stream",
     "text": [
      "Training Random Forest:   0%|          | 0/4729 [00:00<?, ?it/s]"
     ]
    },
    {
     "name": "stderr",
     "output_type": "stream",
     "text": [
      "Training Random Forest: 100%|██████████| 4729/4729 [00:29<00:00, 162.45it/s]\n"
     ]
    }
   ],
   "source": [
    "rf_model = RandomForestClassifier(n_estimators=70, criterion='entropy')  \n",
    "with tqdm(total=len(X_train), desc=\"Training Random Forest\") as pbar:\n",
    "    rf_model.fit(X_train, y_train)\n",
    "    pbar.update(len(X_train))\n"
   ]
  },
  {
   "cell_type": "code",
   "execution_count": 12,
   "metadata": {},
   "outputs": [],
   "source": [
    "label_to_number = {\"fresh banana\": 0, \"fresh green apple\": 1, \"rotten apple\": 2, \"rotten banana\": 3, \"fresh red apple\": 4, \"fresh bitter gourd\": 5, \"fresh capsicum\": 6, \"fresh orange\": 7, \"fresh tomato\": 8, \"rotten bitter gourd\": 9, \"rotten capsicum\": 10, \"rotten orange\": 11}\n",
    "numeric_y_test = [label_to_number[label] for label in y_test]"
   ]
  },
  {
   "cell_type": "code",
   "execution_count": 13,
   "metadata": {},
   "outputs": [],
   "source": [
    "y_pred = rf_model.predict(X_test)"
   ]
  },
  {
   "cell_type": "code",
   "execution_count": 16,
   "metadata": {},
   "outputs": [],
   "source": [
    "with open('Random Forest Entropy.pkl', 'wb') as file:\n",
    "    pickle.dump(rf_model, file)"
   ]
  },
  {
   "cell_type": "code",
   "execution_count": 17,
   "metadata": {},
   "outputs": [
    {
     "data": {
      "text/plain": [
       "array([11,  8,  4, ..., 11,  5,  5])"
      ]
     },
     "execution_count": 17,
     "metadata": {},
     "output_type": "execute_result"
    }
   ],
   "source": [
    "numeric_y_test_arr = np.array(numeric_y_test)\n",
    "numeric_y_test_arr"
   ]
  },
  {
   "cell_type": "code",
   "execution_count": 18,
   "metadata": {},
   "outputs": [
    {
     "data": {
      "text/plain": [
       "array(['rotten orange', 'fresh tomato', 'fresh red apple', ...,\n",
       "       'rotten orange', 'fresh bitter gourd', 'fresh bitter gourd'],\n",
       "      dtype='<U19')"
      ]
     },
     "execution_count": 18,
     "metadata": {},
     "output_type": "execute_result"
    }
   ],
   "source": [
    "y_pred"
   ]
  },
  {
   "cell_type": "code",
   "execution_count": 20,
   "metadata": {},
   "outputs": [],
   "source": [
    "label_to_number = {\"fresh banana\": 0, \"fresh green apple\": 1, \"rotten apple\": 2, \"rotten banana\": 3, \"fresh red apple\": 4, \"fresh bitter gourd\": 5, \"fresh capsicum\": 6, \"fresh orange\": 7, \"fresh tomato\": 8, \"rotten bitter gourd\": 9, \"rotten capsicum\": 10, \"rotten orange\": 11}\n",
    "numeric_y_pred = [label_to_number[label] for label in y_pred]"
   ]
  },
  {
   "cell_type": "code",
   "execution_count": 21,
   "metadata": {},
   "outputs": [
    {
     "data": {
      "text/plain": [
       "0.9737954353338969"
      ]
     },
     "execution_count": 21,
     "metadata": {},
     "output_type": "execute_result"
    }
   ],
   "source": [
    "accuracy_score(numeric_y_test_arr, numeric_y_pred)"
   ]
  },
  {
   "cell_type": "code",
   "execution_count": 23,
   "metadata": {},
   "outputs": [
    {
     "data": {
      "text/plain": [
       "array([0.95604396, 0.97530864, 0.92857143, 0.93959732, 0.99421965,\n",
       "       1.        , 1.        , 0.93203883, 1.        , 1.        ,\n",
       "       1.        , 0.91836735])"
      ]
     },
     "execution_count": 23,
     "metadata": {},
     "output_type": "execute_result"
    }
   ],
   "source": [
    "f1_score(numeric_y_test_arr, numeric_y_pred, average=None)"
   ]
  },
  {
   "cell_type": "code",
   "execution_count": 24,
   "metadata": {},
   "outputs": [
    {
     "data": {
      "text/plain": [
       "0.9737954353338969"
      ]
     },
     "execution_count": 24,
     "metadata": {},
     "output_type": "execute_result"
    }
   ],
   "source": [
    "f1_score(numeric_y_test_arr, numeric_y_pred, average='micro')"
   ]
  },
  {
   "cell_type": "code",
   "execution_count": 25,
   "metadata": {},
   "outputs": [
    {
     "data": {
      "text/plain": [
       "array([0.93548387, 0.97530864, 0.92857143, 0.97222222, 0.98850575,\n",
       "       1.        , 1.        , 0.91428571, 1.        , 1.        ,\n",
       "       1.        , 0.9375    ])"
      ]
     },
     "execution_count": 25,
     "metadata": {},
     "output_type": "execute_result"
    }
   ],
   "source": [
    "precision_score(numeric_y_test_arr, numeric_y_pred, average=None)"
   ]
  },
  {
   "cell_type": "code",
   "execution_count": 26,
   "metadata": {},
   "outputs": [
    {
     "data": {
      "text/plain": [
       "array([0.97752809, 0.97530864, 0.92857143, 0.90909091, 1.        ,\n",
       "       1.        , 1.        , 0.95049505, 1.        , 1.        ,\n",
       "       1.        , 0.9       ])"
      ]
     },
     "execution_count": 26,
     "metadata": {},
     "output_type": "execute_result"
    }
   ],
   "source": [
    "recall_score(numeric_y_test_arr, numeric_y_pred, average=None)"
   ]
  },
  {
   "cell_type": "code",
   "execution_count": 27,
   "metadata": {},
   "outputs": [
    {
     "data": {
      "text/plain": [
       "array([[ 87,   1,   0,   1,   0,   0,   0,   0,   0,   0,   0,   0],\n",
       "       [  2,  79,   0,   0,   0,   0,   0,   0,   0,   0,   0,   0],\n",
       "       [  1,   0,  65,   1,   1,   0,   0,   2,   0,   0,   0,   0],\n",
       "       [  2,   0,   2,  70,   0,   0,   0,   0,   0,   0,   0,   3],\n",
       "       [  0,   0,   0,   0,  86,   0,   0,   0,   0,   0,   0,   0],\n",
       "       [  0,   0,   0,   0,   0,  75,   0,   0,   0,   0,   0,   0],\n",
       "       [  0,   0,   0,   0,   0,   0, 110,   0,   0,   0,   0,   0],\n",
       "       [  1,   1,   0,   0,   0,   0,   0,  96,   0,   0,   0,   3],\n",
       "       [  0,   0,   0,   0,   0,   0,   0,   0, 217,   0,   0,   0],\n",
       "       [  0,   0,   0,   0,   0,   0,   0,   0,   0,  74,   0,   0],\n",
       "       [  0,   0,   0,   0,   0,   0,   0,   0,   0,   0, 103,   0],\n",
       "       [  0,   0,   3,   0,   0,   0,   0,   7,   0,   0,   0,  90]],\n",
       "      dtype=int64)"
      ]
     },
     "execution_count": 27,
     "metadata": {},
     "output_type": "execute_result"
    }
   ],
   "source": [
    "confusion_matrix(numeric_y_test_arr, numeric_y_pred)"
   ]
  }
 ],
 "metadata": {
  "kernelspec": {
   "display_name": "Python 3",
   "language": "python",
   "name": "python3"
  },
  "language_info": {
   "codemirror_mode": {
    "name": "ipython",
    "version": 3
   },
   "file_extension": ".py",
   "mimetype": "text/x-python",
   "name": "python",
   "nbconvert_exporter": "python",
   "pygments_lexer": "ipython3",
   "version": "3.9.6"
  }
 },
 "nbformat": 4,
 "nbformat_minor": 2
}
